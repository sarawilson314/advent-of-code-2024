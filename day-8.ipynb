{
 "cells": [
  {
   "cell_type": "code",
   "execution_count": null,
   "metadata": {},
   "outputs": [],
   "source": [
    "data = [\n",
    "    '......#....#',\n",
    "    '...#....0...',\n",
    "    '....#0....#.',\n",
    "    '..#....0....',\n",
    "    '....0....#..',\n",
    "    '.#....A.....',\n",
    "    '...#........',\n",
    "    '#......#....',\n",
    "    '........A...',\n",
    "    '.........A..',\n",
    "    '..........#.',\n",
    "    '..........#.'\n",
    "    ]"
   ]
  },
  {
   "cell_type": "code",
   "execution_count": 3,
   "metadata": {},
   "outputs": [
    {
     "name": "stdout",
     "output_type": "stream",
     "text": [
      "<class 'list'>\n",
      "['............', '........0...', '.....0......', '.......0....', '....0.......', '......A.....', '............', '............', '........A...', '.........A..', '............', '............']\n"
     ]
    }
   ],
   "source": [
    "''' Uncomment to run the input data '''\n",
    "with open('day-7-input.txt', 'r') as file:\n",
    "    data = file.read()\n",
    "data = data.strip().split('\\n')\n",
    "\n",
    "''' Uncomment to run example '''\n",
    "data = [\n",
    "    '............',\n",
    "    '........0...',\n",
    "    '.....0......',\n",
    "    '.......0....',\n",
    "    '....0.......',\n",
    "    '......A.....',\n",
    "    '............',\n",
    "    '............',\n",
    "    '........A...',\n",
    "    '.........A..',\n",
    "    '............',\n",
    "    '............'\n",
    "    ]\n",
    "\n",
    "print(type(data))\n",
    "print(data)"
   ]
  },
  {
   "cell_type": "code",
   "execution_count": 94,
   "metadata": {},
   "outputs": [
    {
     "name": "stdout",
     "output_type": "stream",
     "text": [
      "char: ['0', 1, 8], char+1: ['0', 2, 5]\n",
      "char: ['0', 2, 5], char+1: ['0', 3, 7]\n",
      "char: ['0', 3, 7], char+1: ['0', 4, 4]\n",
      "Character Positions: [['0', 1, 8], ['0', 2, 5], ['0', 3, 7], ['0', 4, 4]]\n",
      "Antinode Positions: [['0', 0, 5], ['0', 3, 8], ['0', 1, 3], ['0', 4, 9], ['0', 2, 4], ['0', 5, 7]]\n"
     ]
    }
   ],
   "source": [
    "import string\n",
    "\n",
    "antinodes = 0\n",
    "char_positions = []\n",
    "antinode_positions = []\n",
    "\n",
    "for char in string.digits:\n",
    "\n",
    "    ''' Find character positions ''' \n",
    "    for line in range(len(data)):\n",
    "        for index in range(len(data[line])):\n",
    "            if data[line][index] == char:\n",
    "                char_positions += [[char, line, index]]\n",
    "\n",
    "    ''' Assign an antinode for each character position '''\n",
    "    for item in range(len(char_positions)-1):\n",
    "        if char_positions[item][0] == char and char_positions[item+1][0]:\n",
    "            print(f'char: {char_positions[item]}, char+1: {char_positions[item+1]}')\n",
    "            line_diff = char_positions[item+1][1] - char_positions[item][1]\n",
    "            element_diff = abs(char_positions[item+1][2] - char_positions[item][2])\n",
    "            ''' Add the upper antinodes '''\n",
    "            if char_positions[item][1] - line_diff in range(len(data)):\n",
    "                if char_positions[item][2] - element_diff in range(len(data[line])):\n",
    "                    ''' Add the upper left antinode '''\n",
    "                    antinode_positions += [[char, char_positions[item][1] - line_diff, char_positions[item][2] - element_diff]]\n",
    "                elif char_positions[item][2] + element_diff in range(len(data[line])):\n",
    "                    ''' Add the upper right antinoide '''\n",
    "                    antinode_positions += [[char, char_positions[item][1] - line_diff, char_positions[item][2] + element_diff]]\n",
    "            ''' Add the lower antinodes '''\n",
    "            if char_positions[item+1][1] + line_diff in range(len(data)):\n",
    "                if char_positions[item+1][2] - element_diff in range(len(data[line])):\n",
    "                    ''' Add the lower right antinode '''\n",
    "                    antinode_positions += [[char, char_positions[item+1][1] + line_diff, char_positions[item+1][2] + element_diff]]\n",
    "                elif char_positions[item+1][2] + element_diff in range(len(data[line])):\n",
    "                    ''' Add the lower left antinode '''\n",
    "                    antinode_positions += [[char, char_positions[item+1][1] + line_diff, char_positions[item+1][2] - element_diff]]\n",
    "\n",
    "print(f'Character Positions: {char_positions}')\n",
    "print(f'Antinode Positions: {antinode_positions}')"
   ]
  }
 ],
 "metadata": {
  "kernelspec": {
   "display_name": "Python 3",
   "language": "python",
   "name": "python3"
  },
  "language_info": {
   "codemirror_mode": {
    "name": "ipython",
    "version": 3
   },
   "file_extension": ".py",
   "mimetype": "text/x-python",
   "name": "python",
   "nbconvert_exporter": "python",
   "pygments_lexer": "ipython3",
   "version": "3.11.4"
  }
 },
 "nbformat": 4,
 "nbformat_minor": 2
}
