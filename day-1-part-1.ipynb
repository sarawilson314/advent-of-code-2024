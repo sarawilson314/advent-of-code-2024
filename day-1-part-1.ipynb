{
 "cells": [
  {
   "cell_type": "markdown",
   "metadata": {},
   "source": [
    "--- Day 1: Historian Hysteria ---\n",
    "\n",
    "The Chief Historian is always present for the big Christmas sleigh launch, but nobody has seen him in months! Last anyone heard, he was visiting locations that are historically significant to the North Pole; a group of Senior Historians has asked you to accompany them as they check the places they think he was most likely to visit.\n",
    "\n",
    "As each location is checked, they will mark it on their list with a star. They figure the Chief Historian must be in one of the first fifty places they'll look, so in order to save Christmas, you need to help them get fifty stars on their list before Santa takes off on December 25th.\n",
    "\n",
    "Collect stars by solving puzzles. Two puzzles will be made available on each day in the Advent calendar; the second puzzle is unlocked when you complete the first. Each puzzle grants one star. Good luck!\n",
    "\n",
    "You haven't even left yet and the group of Elvish Senior Historians has already hit a problem: their list of locations to check is currently empty. Eventually, someone decides that the best place to check first would be the Chief Historian's office.\n",
    "\n",
    "Upon pouring into the office, everyone confirms that the Chief Historian is indeed nowhere to be found. Instead, the Elves discover an assortment of notes and lists of historically significant locations! This seems to be the planning the Chief Historian was doing before he left. Perhaps these notes can be used to determine which locations to search?\n",
    "\n",
    "Throughout the Chief's office, the historically significant locations are listed not by name but by a unique number called the location ID. To make sure they don't miss anything, The Historians split into two groups, each searching the office and trying to create their own complete list of location IDs.\n",
    "\n",
    "There's just one problem: by holding the two lists up side by side (your puzzle input), it quickly becomes clear that the lists aren't very similar. Maybe you can help The Historians reconcile their lists?\n",
    "\n",
    "For example:\n",
    "\n",
    "3 4\n",
    "4 3\n",
    "2 5\n",
    "1 3\n",
    "3 9\n",
    "3 3\n",
    "\n",
    "Maybe the lists are only off by a small amount! To find out, pair up the numbers and measure how far apart they are. Pair up the smallest number in the left list with the smallest number in the right list, then the second-smallest left number with the second-smallest right number, and so on.\n",
    "\n",
    "Within each pair, figure out how far apart the two numbers are; you'll need to add up all of those distances. For example, if you pair up a 3 from the left list with a 7 from the right list, the distance apart is 4; if you pair up a 9 with a 3, the distance apart is 6.\n",
    "\n",
    "In the example list above, the pairs and distances would be as follows:\n",
    "\n",
    "    The smallest number in the left list is 1, and the smallest number in the right list is 3. The distance between them is 2.\n",
    "    The second-smallest number in the left list is 2, and the second-smallest number in the right list is another 3. The distance between them is 1.\n",
    "    The third-smallest number in both lists is 3, so the distance between them is 0.\n",
    "    The next numbers to pair up are 3 and 4, a distance of 1.\n",
    "    The fifth-smallest numbers in each list are 3 and 5, a distance of 2.\n",
    "    Finally, the largest number in the left list is 4, while the largest number in the right list is 9; these are a distance 5 apart.\n",
    "\n",
    "To find the total distance between the left list and the right list, add up the distances between all of the pairs you found. In the example above, this is 2 + 1 + 0 + 1 + 2 + 5, a total distance of 11!\n",
    "\n",
    "Your actual left and right lists contain many location IDs. What is the total distance between your lists?\n",
    "\n",
    "To begin, get your puzzle input.\n"
   ]
  },
  {
   "cell_type": "code",
   "execution_count": 5,
   "metadata": {},
   "outputs": [],
   "source": [
    "import pandas as pd\n",
    "import numpy as np"
   ]
  },
  {
   "cell_type": "code",
   "execution_count": 18,
   "metadata": {},
   "outputs": [
    {
     "name": "stdout",
     "output_type": "stream",
     "text": [
      "11\n"
     ]
    }
   ],
   "source": [
    "''' Example '''\n",
    "\n",
    "def calculate_difference_between_two_lists(list1: list[float], list2: list[float]) -> float:\n",
    "    ''' Calculate the difference between two lists '''\n",
    "    \n",
    "    # Order the lists\n",
    "    list1_ordered = np.sort(list1)\n",
    "    list2_ordered = np.sort(list2)\n",
    "\n",
    "    # Create a list of the differences between each element of the two lists\n",
    "    list_diff = abs(list1_ordered - list2_ordered)\n",
    "\n",
    "    # Sum the differences\n",
    "    sum_of_list_diff = sum(list_diff)\n",
    "\n",
    "    return sum_of_list_diff\n",
    "\n",
    "# Set up example lists\n",
    "example_list1 = [3, 4, 2, 1, 3, 3]\n",
    "example_list2 = [4, 3, 5, 3, 9, 3]\n",
    "\n",
    "example_result = calculate_difference_between_two_lists(list1=example_list1, list2=example_list2)\n",
    "\n",
    "print(example_result)"
   ]
  },
  {
   "cell_type": "code",
   "execution_count": null,
   "metadata": {},
   "outputs": [
    {
     "name": "stdout",
     "output_type": "stream",
     "text": [
      "1646452\n"
     ]
    }
   ],
   "source": [
    "# Set up lists\n",
    "data = pd.read_table('day-1-input.txt', header=None, delimiter='  ', engine='python')\n",
    "list1 = data[0]\n",
    "list2 = data[1]\n",
    "\n",
    "result = calculate_difference_between_two_lists(list1=list1, list2=list2)\n",
    "print(result)"
   ]
  }
 ],
 "metadata": {
  "kernelspec": {
   "display_name": "Python 3",
   "language": "python",
   "name": "python3"
  },
  "language_info": {
   "codemirror_mode": {
    "name": "ipython",
    "version": 3
   },
   "file_extension": ".py",
   "mimetype": "text/x-python",
   "name": "python",
   "nbconvert_exporter": "python",
   "pygments_lexer": "ipython3",
   "version": "3.11.4"
  }
 },
 "nbformat": 4,
 "nbformat_minor": 2
}
