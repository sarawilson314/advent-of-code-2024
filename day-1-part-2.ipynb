{
 "cells": [
  {
   "cell_type": "markdown",
   "metadata": {},
   "source": [
    "--- Part Two ---\n",
    "\n",
    "Your analysis only confirmed what everyone feared: the two lists of location IDs are indeed very different.\n",
    "\n",
    "Or are they?\n",
    "\n",
    "The Historians can't agree on which group made the mistakes or how to read most of the Chief's handwriting, but in the commotion you notice an interesting detail: a lot of location IDs appear in both lists! Maybe the other numbers aren't location IDs at all but rather misinterpreted handwriting.\n",
    "\n",
    "This time, you'll need to figure out exactly how often each number from the left list appears in the right list. Calculate a total similarity score by adding up each number in the left list after multiplying it by the number of times that number appears in the right list.\n",
    "\n",
    "Here are the same example lists again:\n",
    "\n",
    "3 4\n",
    "4 3\n",
    "2 5\n",
    "1 3\n",
    "3 9\n",
    "3 3\n",
    "\n",
    "For these example lists, here is the process of finding the similarity score:\n",
    "\n",
    "    The first number in the left list is 3. It appears in the right list three times, so the similarity score increases by 3 * 3 = 9.\n",
    "    The second number in the left list is 4. It appears in the right list once, so the similarity score increases by 4 * 1 = 4.\n",
    "    The third number in the left list is 2. It does not appear in the right list, so the similarity score does not increase (2 * 0 = 0).\n",
    "    The fourth number, 1, also does not appear in the right list.\n",
    "    The fifth number, 3, appears in the right list three times; the similarity score increases by 9.\n",
    "    The last number, 3, appears in the right list three times; the similarity score again increases by 9.\n",
    "\n",
    "So, for these example lists, the similarity score at the end of this process is 31 (9 + 4 + 0 + 0 + 9 + 9).\n",
    "\n",
    "Once again consider your left and right lists. What is their similarity score?\n"
   ]
  },
  {
   "cell_type": "code",
   "execution_count": 2,
   "metadata": {},
   "outputs": [],
   "source": [
    "import pandas as pd \n",
    "import numpy as np"
   ]
  },
  {
   "cell_type": "code",
   "execution_count": null,
   "metadata": {},
   "outputs": [
    {
     "name": "stdout",
     "output_type": "stream",
     "text": [
      "     List1  List2  Num_Times_List1_Val_In_List2\n",
      "562  14603  99445                            20\n",
      "499  50527  60911                            20\n",
      "404  85469  93679                            19\n",
      "939  21832  79777                            19\n",
      "179  73934  97128                            19\n",
      "..     ...    ...                           ...\n",
      "343  12808  41935                             0\n",
      "344  94055  78793                             0\n",
      "346  99161  93096                             0\n",
      "347  34755  29742                             0\n",
      "999  69487  20471                             0\n",
      "\n",
      "[1000 rows x 3 columns]\n"
     ]
    }
   ],
   "source": [
    "# Read in the data\n",
    "data = pd.read_table('day-1-input.txt', header=None, delimiter='  ', engine='python')\n",
    "list1 = list(data[0])\n",
    "list2 = list(data[1])\n",
    "\n",
    "output = pd.DataFrame(columns=['List1', 'List2'])\n",
    "output['List1'] = list1\n",
    "output['List2'] = list2\n",
    "output['Num_Times_List1_Val_In_List2'] = 0\n",
    "\n",
    "for i in range(len(output['List1'].values)):\n",
    "    list1_val = output['List1'][i]\n",
    "    list2_df = output.loc[output['List2']==list1_val]\n",
    "    length_list2_df = len(list2_df)\n",
    "    output['Num_Times_List1_Val_In_List2'][i] = length_list2_df\n",
    "\n",
    "output.sort_values(by='Num_Times_List1_Val_In_List2', ascending=False, inplace=True)\n",
    "print(output)\n",
    "#print(output.loc[output['Num_Times_List1_Val_In_List2']!=0])"
   ]
  }
 ],
 "metadata": {
  "kernelspec": {
   "display_name": "Python 3",
   "language": "python",
   "name": "python3"
  },
  "language_info": {
   "codemirror_mode": {
    "name": "ipython",
    "version": 3
   },
   "file_extension": ".py",
   "mimetype": "text/x-python",
   "name": "python",
   "nbconvert_exporter": "python",
   "pygments_lexer": "ipython3",
   "version": "3.11.4"
  }
 },
 "nbformat": 4,
 "nbformat_minor": 2
}
